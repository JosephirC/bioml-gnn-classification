{
 "cells": [
  {
   "cell_type": "markdown",
   "metadata": {},
   "source": [
    "ABIDA Youssef (p2024398)\n",
    "VADUREL Benjamin (2000154)\n",
    "\n",
    "# Projet GNN - Classification de noeuds"
   ]
  },
  {
   "cell_type": "markdown",
   "metadata": {
    "vscode": {
     "languageId": "plaintext"
    }
   },
   "source": [
    "# Imports"
   ]
  },
  {
   "cell_type": "code",
<<<<<<< HEAD
<<<<<<< HEAD
   "execution_count": 1,
=======
   "execution_count": 13,
>>>>>>> 5d91524 (working on GAT model)
=======
   "execution_count": 1,
>>>>>>> f85762e (merged branch)
   "metadata": {},
   "outputs": [],
   "source": [
    "import networkx as nx\n",
    "import torch\n",
    "from torch_geometric.utils import from_networkx\n",
    "from sklearn.preprocessing import LabelEncoder\n",
    "from sklearn.preprocessing import OneHotEncoder\n",
    "from sklearn.metrics import precision_score, root_mean_squared_error\n",
    "\n",
    "from GAT import GAT"
   ]
  },
  {
   "cell_type": "code",
   "execution_count": null,
   "metadata": {},
   "outputs": [],
   "source": [
    "device = torch.device('cuda' if torch.cuda.is_available() else 'cpu')\n",
    "print(device)"
   ]
  },
  {
   "cell_type": "code",
   "execution_count": null,
   "metadata": {},
   "outputs": [],
   "source": [
    "graph = nx.read_graphml('data/airportsAndCoordAndPop.graphml.xml')\n",
    "graph.nodes(data=True)"
   ]
  },
  {
   "cell_type": "markdown",
   "metadata": {},
   "source": [
    "# Data description\n",
    " - lon : float\n",
    " - lat : float\n",
    " - population : int\n",
    " - country : string (exemple : 'FRENCH_POLYNESIA')\n",
    " - city_name : string (exemple : 'Anaa')"
   ]
  },
  {
   "cell_type": "code",
   "execution_count": null,
   "metadata": {},
   "outputs": [],
   "source": [
    "city_names = nx.get_node_attributes(graph, 'city_name')\n",
    "print(city_names)\n",
    "\n",
    "encoder = LabelEncoder()\n",
    "print(city_names.values())\n",
    "city_names_encoder = encoder.fit(list(city_names.values()))\n",
    "\n",
    "for node in graph.nodes():\n",
    "    graph.nodes[node]['city_name'] = city_names_encoder.transform([graph.nodes[node]['city_name']])[0]\n",
    "\n",
    "graph.nodes(data=True)\n"
   ]
  },
  {
   "cell_type": "code",
   "execution_count": null,
   "metadata": {},
   "outputs": [],
   "source": [
    "data = from_networkx(graph, group_node_attrs=[\"lon\", \"lat\", \"city_name\"])\n",
    "\n",
    "print(data)\n",
    "print(data.num_nodes)\n",
    "print(data.num_edges)\n",
    "print(data.num_node_features)"
   ]
  },
  {
   "cell_type": "code",
<<<<<<< HEAD
<<<<<<< HEAD
   "execution_count": 6,
=======
   "execution_count": 18,
>>>>>>> 5d91524 (working on GAT model)
=======
   "execution_count": 6,
>>>>>>> f85762e (merged branch)
   "metadata": {},
   "outputs": [],
   "source": [
    "# Preprocessing des données\n",
    "\n",
    "data_copy = data.clone()\n",
    "\n",
    "encoder = LabelEncoder()\n",
    "\n",
    "country_encoder = encoder.fit(data_copy.country)\n",
    "data_copy.country = encoder.transform(data_copy.country)\n",
    "\n",
    "target_tensor = torch.tensor(data_copy.country, dtype=torch.long)\n",
    "data_copy.y = target_tensor\n",
    "data_copy.num_classes = len(set(data_copy.country))\n",
    "\n",
    "train_ratio = 0.8\n",
    "\n",
    "mask = torch.rand(data_copy.num_nodes) < train_ratio\n",
    "data_copy.train_mask = mask\n",
    "data_copy.test_mask = ~mask\n",
    "\n",
    "temp = torch.zeros((data_copy.num_nodes, 3), dtype=torch.float)\n",
    "temp[data_copy.train_mask] = data_copy.x[data_copy.train_mask]\n",
    "data_copy.x = temp\n"
   ]
  },
  {
   "cell_type": "code",
<<<<<<< HEAD
<<<<<<< HEAD
   "execution_count": 7,
=======
   "execution_count": 19,
>>>>>>> 5d91524 (working on GAT model)
=======
   "execution_count": 7,
>>>>>>> f85762e (merged branch)
   "metadata": {},
   "outputs": [],
   "source": [
    "def test_model(model, data):\n",
    "    model = model.cpu()\n",
    "    data= data.cpu()\n",
    "\n",
    "    pred = model(data.x, data.edge_index).argmax(dim=1)\n",
    "    correct = (pred[data.test_mask] == data.y[data.test_mask]).sum()\n",
    "    acc = int(correct) / int(data.test_mask.sum())\n",
    "\n",
    "    precision = precision_score(data.y[data.test_mask], pred[data.test_mask], average='weighted')\n",
    "\n",
    "    rmse = root_mean_squared_error(data.y[data.test_mask], pred[data.test_mask])\n",
    "\n",
    "    return acc, precision, rmse"
   ]
  },
  {
   "cell_type": "code",
   "execution_count": null,
   "metadata": {},
   "outputs": [],
   "source": [
    "model = GAT(data_copy.x.shape[1], 8, data_copy.num_classes)\n",
    "data_copy = data_copy.to(device)\n",
    "model = model.to(device)\n",
    "\n",
    "model.fit(data_copy,10000)"
   ]
  },
  {
   "cell_type": "code",
   "execution_count": null,
   "metadata": {},
   "outputs": [],
   "source": [
    "print(test_model(model, data_copy))"
   ]
  }
 ],
 "metadata": {
  "kernelspec": {
   "display_name": "ml_env",
   "language": "python",
   "name": "python3"
  },
  "language_info": {
   "codemirror_mode": {
    "name": "ipython",
    "version": 3
   },
   "file_extension": ".py",
   "mimetype": "text/x-python",
   "name": "python",
   "nbconvert_exporter": "python",
   "pygments_lexer": "ipython3",
   "version": "3.11.10"
  }
 },
 "nbformat": 4,
 "nbformat_minor": 2
}
